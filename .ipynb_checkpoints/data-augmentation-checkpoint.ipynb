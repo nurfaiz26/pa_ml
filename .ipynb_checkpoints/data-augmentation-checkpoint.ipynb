{
 "cells": [
  {
   "cell_type": "code",
   "execution_count": 1,
   "id": "41bb946c-74a9-47f8-b870-bd36bea37bfb",
   "metadata": {},
   "outputs": [],
   "source": [
    "import torch\n",
    "import torch.nn as nn \n",
    "import torch.optim as optim  \n",
    "import torchvision.transforms as transforms \n",
    "import torchvision\n",
    "import os\n",
    "import pandas as pd\n",
    "from PIL import Image\n",
    "from torchvision.utils import save_image\n",
    "from torch.utils.data import (\n",
    "    Dataset,\n",
    "    DataLoader,\n",
    ") "
   ]
  },
  {
   "cell_type": "code",
   "execution_count": 2,
   "id": "785c5f3c-2dd0-4734-9be1-be49c5659fdd",
   "metadata": {},
   "outputs": [],
   "source": [
    "class ICHDataset(Dataset):\n",
    "    def __init__(self, csv_file, root_dir, transform=None):\n",
    "        self.annotations = pd.read_csv(csv_file)\n",
    "        self.root_dir = root_dir\n",
    "        self.transform = transform\n",
    "\n",
    "    def __len__(self):\n",
    "        return len(self.annotations)\n",
    "\n",
    "    def __getitem__(self, index):\n",
    "        img_path = os.path.join(self.root_dir, self.annotations.iloc[index, 0])\n",
    "        image = Image.open(img_path)\n",
    "\n",
    "        if self.transform:\n",
    "            image = self.transform(image)\n",
    "\n",
    "        return image"
   ]
  },
  {
   "cell_type": "code",
   "execution_count": 3,
   "id": "66637d5a-45d4-40ac-80ba-c6c85a9d3424",
   "metadata": {},
   "outputs": [],
   "source": [
    "import torchvision.transforms as transforms\n",
    "\n",
    "# size = 224 || 256 for b16,b32,l16,l32 models, 518 for h14 model\n",
    "size = 256\n",
    "\n",
    "img_transforms_augmented = transforms.Compose([\n",
    "    transforms.Resize((size, size)),\n",
    "    transforms.Grayscale(num_output_channels=3),\n",
    "    transforms.RandomAffine(degrees=(-30, 30), translate=(0.01, 0.05), scale=(0.9, 1.1)),\n",
    "    transforms.ToTensor(),\n",
    "    # transforms.Normalize(\n",
    "    #     mean=[0.485, 0.456, 0.406], std=[0.229, 0.224, 0.225]\n",
    "    # ),\n",
    "])\n",
    "\n",
    "img_transforms = transforms.Compose([\n",
    "    transforms.Resize((size, size)),\n",
    "    transforms.Grayscale(num_output_channels=3),\n",
    "    transforms.ToTensor(),\n",
    "])"
   ]
  },
  {
   "cell_type": "code",
   "execution_count": 4,
   "id": "833f463d-30a0-4cf1-87cb-0bcddff941e7",
   "metadata": {},
   "outputs": [],
   "source": [
    "# dataset base dir = ich_dataset, ich_dataset2, ich_dataset2-1\n",
    "dataset_base_dir = 'C:/Users/Lala Salwa/Documents/Abang\\'s/vit-classification/vit-classification-main/ich_dataset2-1'\n",
    "\n",
    "# dataset 2-1 = 2 iteration\n",
    "# dataset 2 = 2 iteration\n",
    "# dataset 1 = 50 iteration\n",
    "iteration = 10\n",
    "\n",
    "data_dir_normal = f'{dataset_base_dir}/train/Normal/'\n",
    "data_dir_epidural = f'{dataset_base_dir}/train/Epidural/'\n",
    "data_dir_intraventicular = f'{dataset_base_dir}/train/Intraventicular/'\n",
    "data_dir_intraparenchymal = f'{dataset_base_dir}/train/Intraparenchymal/'\n",
    "data_dir_subarachnoid = f'{dataset_base_dir}/train/Subarachnoid/'\n",
    "data_dir_subdural = f'{dataset_base_dir}/train/Subdural/'\n",
    "csv_dir = f'{dataset_base_dir}/train/train_data.csv'\n",
    "\n",
    "data_dir_test_normal = f'{dataset_base_dir}/test/Normal/'\n",
    "data_dir_test_epidural = f'{dataset_base_dir}/test/Epidural/'\n",
    "data_dir_test_intraventicular = f'{dataset_base_dir}/test/Intraventicular/'\n",
    "data_dir_test_intraparenchymal = f'{dataset_base_dir}/test/Intraparenchymal/'\n",
    "data_dir_test_subarachnoid = f'{dataset_base_dir}/test/Subarachnoid/'\n",
    "data_dir_test_subdural = f'{dataset_base_dir}/test/Subdural/'\n",
    "test_csv_dir = f'{dataset_base_dir}/test/test_data.csv'"
   ]
  },
  {
   "cell_type": "code",
   "execution_count": 5,
   "id": "49c0f73e-64e0-4055-b62d-2240fadea38c",
   "metadata": {},
   "outputs": [],
   "source": [
    "img_num = 0\n",
    "dataset_normal = ICHDataset(csv_file = csv_dir, root_dir = data_dir_normal, transform = img_transforms_augmented)\n",
    "for _ in range(iteration):\n",
    "    for img in dataset_normal:\n",
    "        save_image(img, f'{dataset_base_dir}/augmented/{size}/train/Normal/img'+str(img_num)+'.jpg')\n",
    "        img_num += 1\n",
    "\n",
    "dataset_normal = ICHDataset(csv_file = csv_dir, root_dir = data_dir_normal, transform = img_transforms)\n",
    "for img in dataset_normal:\n",
    "    save_image(img, f'{dataset_base_dir}/augmented/{size}/train/Normal/img'+str(img_num)+'.jpg')\n",
    "    img_num += 1"
   ]
  },
  {
   "cell_type": "code",
   "execution_count": 6,
   "id": "8011937b-fb59-473f-b6eb-8bf906910d84",
   "metadata": {},
   "outputs": [],
   "source": [
    "img_num = 0\n",
    "dataset_epidural = ICHDataset(csv_file = csv_dir, root_dir = data_dir_epidural, transform = img_transforms_augmented)\n",
    "for _ in range(iteration):\n",
    "    for img in dataset_epidural:\n",
    "        save_image(img, f'{dataset_base_dir}/augmented/{size}/train/Epidural/img'+str(img_num)+'.jpg')\n",
    "        img_num += 1\n",
    "\n",
    "dataset_epidural = ICHDataset(csv_file = csv_dir, root_dir = data_dir_epidural, transform = img_transforms)\n",
    "for img in dataset_epidural:\n",
    "    save_image(img, f'{dataset_base_dir}/augmented/{size}/train/Epidural/img'+str(img_num)+'.jpg')\n",
    "    img_num += 1"
   ]
  },
  {
   "cell_type": "code",
   "execution_count": 7,
   "id": "3109ada2-49d0-4acc-9ad8-a76b3520ca2b",
   "metadata": {},
   "outputs": [],
   "source": [
    "img_num = 0\n",
    "dataset_intraventicular = ICHDataset(csv_file = csv_dir, root_dir = data_dir_intraventicular, transform = img_transforms_augmented)\n",
    "for _ in range(iteration):\n",
    "    for img in dataset_intraventicular:\n",
    "        save_image(img, f'{dataset_base_dir}/augmented/{size}/train/Intraventicular/img'+str(img_num)+'.jpg')\n",
    "        img_num += 1\n",
    "\n",
    "dataset_intraventicular = ICHDataset(csv_file = csv_dir, root_dir = data_dir_intraventicular, transform = img_transforms)\n",
    "for img in dataset_intraventicular:\n",
    "    save_image(img, f'{dataset_base_dir}/augmented/{size}/train/Intraventicular/img'+str(img_num)+'.jpg')\n",
    "    img_num += 1"
   ]
  },
  {
   "cell_type": "code",
   "execution_count": 8,
   "id": "5e70af6e-9048-4479-8a31-671eef86107a",
   "metadata": {},
   "outputs": [],
   "source": [
    "img_num = 0\n",
    "dataset_intraparenchymal = ICHDataset(csv_file = csv_dir, root_dir = data_dir_intraparenchymal, transform = img_transforms_augmented)\n",
    "for _ in range(iteration):\n",
    "    for img in dataset_intraparenchymal:\n",
    "        save_image(img, f'{dataset_base_dir}/augmented/{size}/train/Intraparenchymal/img'+str(img_num)+'.jpg')\n",
    "        img_num += 1\n",
    "\n",
    "dataset_intraparenchymal = ICHDataset(csv_file = csv_dir, root_dir = data_dir_intraparenchymal, transform = img_transforms)\n",
    "for img in dataset_intraparenchymal:\n",
    "    save_image(img, f'{dataset_base_dir}/augmented/{size}/train/Intraparenchymal/img'+str(img_num)+'.jpg')\n",
    "    img_num += 1"
   ]
  },
  {
   "cell_type": "code",
   "execution_count": 9,
   "id": "4b8b2899-0467-4763-bfbb-2a1387386e3d",
   "metadata": {},
   "outputs": [],
   "source": [
    "img_num = 0\n",
    "dataset_subarachnoid = ICHDataset(csv_file = csv_dir, root_dir = data_dir_subarachnoid, transform = img_transforms_augmented)\n",
    "for _ in range(iteration):\n",
    "    for img in dataset_subarachnoid:\n",
    "        save_image(img, f'{dataset_base_dir}/augmented/{size}/train/Subarachnoid/img'+str(img_num)+'.jpg')\n",
    "        img_num += 1\n",
    "\n",
    "dataset_subarachnoid = ICHDataset(csv_file = csv_dir, root_dir = data_dir_subarachnoid, transform = img_transforms)\n",
    "for img in dataset_subarachnoid:\n",
    "    save_image(img, f'{dataset_base_dir}/augmented/{size}/train/Subarachnoid/img'+str(img_num)+'.jpg')\n",
    "    img_num += 1"
   ]
  },
  {
   "cell_type": "code",
   "execution_count": 10,
   "id": "17e67b38-958f-46e8-9a79-8c53674425df",
   "metadata": {},
   "outputs": [],
   "source": [
    "img_num = 0\n",
    "dataset_subdural = ICHDataset(csv_file = csv_dir, root_dir = data_dir_subdural, transform = img_transforms_augmented)\n",
    "for _ in range(iteration):\n",
    "    for img in dataset_subdural:\n",
    "        save_image(img, f'{dataset_base_dir}/augmented/{size}/train/Subdural/img'+str(img_num)+'.jpg')\n",
    "        img_num += 1\n",
    "\n",
    "dataset_subdural = ICHDataset(csv_file = csv_dir, root_dir = data_dir_subdural, transform = img_transforms)\n",
    "for img in dataset_subdural:\n",
    "    save_image(img, f'{dataset_base_dir}/augmented/{size}/train/Subdural/img'+str(img_num)+'.jpg')\n",
    "    img_num += 1"
   ]
  },
  {
   "cell_type": "code",
   "execution_count": 11,
   "id": "fb7b8bf9-d141-433a-9b79-836cd9beb57b",
   "metadata": {},
   "outputs": [],
   "source": [
    "img_num = 0\n",
    "dataset_test_normal = ICHDataset(csv_file = test_csv_dir, root_dir = data_dir_test_normal, transform = img_transforms_augmented)\n",
    "for _ in range(iteration):\n",
    "    for img in dataset_test_normal:\n",
    "        save_image(img, f'{dataset_base_dir}/augmented/{size}/test/Normal/img'+str(img_num)+'.jpg')\n",
    "        img_num += 1\n",
    "\n",
    "dataset_test_normal = ICHDataset(csv_file = test_csv_dir, root_dir = data_dir_test_normal, transform = img_transforms)\n",
    "for img in dataset_test_normal:\n",
    "    save_image(img, f'{dataset_base_dir}/augmented/{size}/test/Normal/img'+str(img_num)+'.jpg')\n",
    "    img_num += 1"
   ]
  },
  {
   "cell_type": "code",
   "execution_count": 12,
   "id": "f69dcfc4-ee63-42e0-be3a-143e6da7bb2a",
   "metadata": {},
   "outputs": [],
   "source": [
    "img_num = 0\n",
    "dataset_test_epidural = ICHDataset(csv_file = test_csv_dir, root_dir = data_dir_test_epidural, transform = img_transforms_augmented)\n",
    "for _ in range(iteration):\n",
    "    for img in dataset_test_epidural:\n",
    "        save_image(img, f'{dataset_base_dir}/augmented/{size}/test/Epidural/img'+str(img_num)+'.jpg')\n",
    "        img_num += 1\n",
    "\n",
    "dataset_test_epidural = ICHDataset(csv_file = test_csv_dir, root_dir = data_dir_test_epidural, transform = img_transforms)\n",
    "for img in dataset_test_epidural:\n",
    "    save_image(img, f'{dataset_base_dir}/augmented/{size}/test/Epidural/img'+str(img_num)+'.jpg')\n",
    "    img_num += 1"
   ]
  },
  {
   "cell_type": "code",
   "execution_count": 13,
   "id": "d8d7d904-21be-4781-8f88-88ad66b7f4b2",
   "metadata": {},
   "outputs": [],
   "source": [
    "img_num = 0\n",
    "dataset_test_intraventicular = ICHDataset(csv_file = test_csv_dir, root_dir = data_dir_test_intraventicular, transform = img_transforms_augmented)\n",
    "for _ in range(iteration):\n",
    "    for img in dataset_test_intraventicular:\n",
    "        save_image(img, f'{dataset_base_dir}/augmented/{size}/test/Intraventicular/img'+str(img_num)+'.jpg')\n",
    "        img_num += 1\n",
    "\n",
    "dataset_test_intraventicular = ICHDataset(csv_file = test_csv_dir, root_dir = data_dir_test_intraventicular, transform = img_transforms)\n",
    "for img in dataset_test_intraventicular:\n",
    "    save_image(img, f'{dataset_base_dir}/augmented/{size}/test/Intraventicular/img'+str(img_num)+'.jpg')\n",
    "    img_num += 1"
   ]
  },
  {
   "cell_type": "code",
   "execution_count": 14,
   "id": "190b1368-da56-48b6-8fb8-716b61d7fd09",
   "metadata": {},
   "outputs": [],
   "source": [
    "img_num = 0\n",
    "dataset_test_intraparenchymal = ICHDataset(csv_file = test_csv_dir, root_dir = data_dir_test_intraparenchymal, transform = img_transforms_augmented)\n",
    "for _ in range(iteration):\n",
    "    for img in dataset_test_intraparenchymal:\n",
    "        save_image(img, f'{dataset_base_dir}/augmented/{size}/test/Intraparenchymal/img'+str(img_num)+'.jpg')\n",
    "        img_num += 1\n",
    "\n",
    "dataset_test_intraparenchymal = ICHDataset(csv_file = test_csv_dir, root_dir = data_dir_test_intraparenchymal, transform = img_transforms)\n",
    "for img in dataset_test_intraparenchymal:\n",
    "    save_image(img, f'{dataset_base_dir}/augmented/{size}/test/Intraparenchymal/img'+str(img_num)+'.jpg')\n",
    "    img_num += 1"
   ]
  },
  {
   "cell_type": "code",
   "execution_count": 15,
   "id": "0fdaa149-8cf5-436a-93ea-723e4006ff03",
   "metadata": {},
   "outputs": [],
   "source": [
    "img_num = 0\n",
    "dataset_test_subarachnoid = ICHDataset(csv_file = test_csv_dir, root_dir = data_dir_test_subarachnoid, transform = img_transforms_augmented)\n",
    "for _ in range(iteration):\n",
    "    for img in dataset_test_subarachnoid:\n",
    "        save_image(img, f'{dataset_base_dir}/augmented/{size}/test/Subarachnoid/img'+str(img_num)+'.jpg')\n",
    "        img_num += 1\n",
    "\n",
    "dataset_test_subarachnoid = ICHDataset(csv_file = test_csv_dir, root_dir = data_dir_test_subarachnoid, transform = img_transforms)\n",
    "for img in dataset_test_subarachnoid:\n",
    "    save_image(img, f'{dataset_base_dir}/augmented/{size}/test/Subarachnoid/img'+str(img_num)+'.jpg')\n",
    "    img_num += 1"
   ]
  },
  {
   "cell_type": "code",
   "execution_count": 16,
   "id": "19a7fe9b-4e69-435c-bee4-0c1fbcd36de8",
   "metadata": {},
   "outputs": [],
   "source": [
    "img_num = 0\n",
    "dataset_test_subdural = ICHDataset(csv_file = test_csv_dir, root_dir = data_dir_test_subdural, transform = img_transforms_augmented)\n",
    "for _ in range(iteration):\n",
    "    for img in dataset_test_subdural:\n",
    "        save_image(img, f'{dataset_base_dir}/augmented/{size}/test/Subdural/img'+str(img_num)+'.jpg')\n",
    "        img_num += 1\n",
    "\n",
    "dataset_test_subdural = ICHDataset(csv_file = test_csv_dir, root_dir = data_dir_test_subdural, transform = img_transforms)\n",
    "for img in dataset_test_subdural:\n",
    "    save_image(img, f'{dataset_base_dir}/augmented/{size}/test/Subdural/img'+str(img_num)+'.jpg')\n",
    "    img_num += 1"
   ]
  },
  {
   "cell_type": "code",
   "execution_count": null,
   "id": "09d8735d-97b8-49ee-b54f-3aab53d22a26",
   "metadata": {},
   "outputs": [],
   "source": []
  }
 ],
 "metadata": {
  "kernelspec": {
   "display_name": "base env",
   "language": "python",
   "name": "baseenv"
  },
  "language_info": {
   "codemirror_mode": {
    "name": "ipython",
    "version": 3
   },
   "file_extension": ".py",
   "mimetype": "text/x-python",
   "name": "python",
   "nbconvert_exporter": "python",
   "pygments_lexer": "ipython3",
   "version": "3.11.5"
  }
 },
 "nbformat": 4,
 "nbformat_minor": 5
}
