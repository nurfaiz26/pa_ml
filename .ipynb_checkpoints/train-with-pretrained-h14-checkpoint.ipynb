{
 "cells": [
  {
   "cell_type": "code",
   "execution_count": 1,
   "id": "1fb1c10e",
   "metadata": {
    "editable": true,
    "slideshow": {
     "slide_type": ""
    },
    "tags": []
   },
   "outputs": [],
   "source": [
    "import matplotlib.pyplot as plt\n",
    "import torch\n",
    "import torchvision\n",
    "import seaborn as sns\n",
    "\n",
    "from torch import nn\n",
    "from torchvision import transforms\n",
    "from helper_functions import set_seeds\n",
    "from sklearn.metrics import f1_score"
   ]
  },
  {
   "cell_type": "code",
   "execution_count": 2,
   "id": "12e97c71",
   "metadata": {
    "editable": true,
    "slideshow": {
     "slide_type": ""
    },
    "tags": []
   },
   "outputs": [
    {
     "data": {
      "text/plain": [
       "'cuda'"
      ]
     },
     "execution_count": 2,
     "metadata": {},
     "output_type": "execute_result"
    }
   ],
   "source": [
    "device = \"cuda\" if torch.cuda.is_available() else \"cpu\"\n",
    "device"
   ]
  },
  {
   "cell_type": "code",
   "execution_count": 3,
   "id": "c3a572f5-a6ae-4a67-9a22-aeb0d91ef171",
   "metadata": {},
   "outputs": [],
   "source": [
    "pretrained_vit_weights = torchvision.models.ViT_H_14_Weights.DEFAULT \n",
    "\n",
    "pretrained_vit = torchvision.models.vit_h_14(weights=pretrained_vit_weights).to(device)\n",
    "\n",
    "for parameter in pretrained_vit.parameters():\n",
    "    parameter.requires_grad = False\n",
    "    \n",
    "class_names = ['Epidural', 'Intraparenchymal', 'Intraventicular', 'Normal', 'Subarachnoid', 'Subdural']\n",
    "\n",
    "set_seeds()\n",
    "pretrained_vit.heads = nn.Linear(in_features=1280, out_features=len(class_names)).to(device)"
   ]
  },
  {
   "cell_type": "code",
   "execution_count": 4,
   "id": "e3feaa42",
   "metadata": {
    "editable": true,
    "slideshow": {
     "slide_type": ""
    },
    "tags": []
   },
   "outputs": [
    {
     "name": "stderr",
     "output_type": "stream",
     "text": [
      "C:\\Conda\\Lib\\site-packages\\torch\\nn\\modules\\activation.py:1196: UserWarning: 1Torch was not compiled with flash attention. (Triggered internally at C:\\cb\\pytorch_1000000000000\\work\\aten\\src\\ATen\\native\\transformers\\cuda\\sdp_utils.cpp:263.)\n",
      "  return torch._native_multi_head_attention(\n"
     ]
    },
    {
     "data": {
      "text/plain": [
       "============================================================================================================================================\n",
       "Layer (type (var_name))                                      Input Shape          Output Shape         Param #              Trainable\n",
       "============================================================================================================================================\n",
       "VisionTransformer (VisionTransformer)                        [16, 3, 518, 518]    [16, 6]              1,280                Partial\n",
       "├─Conv2d (conv_proj)                                         [16, 3, 518, 518]    [16, 1280, 37, 37]   (753,920)            False\n",
       "├─Encoder (encoder)                                          [16, 1370, 1280]     [16, 1370, 1280]     1,753,600            False\n",
       "│    └─Dropout (dropout)                                     [16, 1370, 1280]     [16, 1370, 1280]     --                   --\n",
       "│    └─Sequential (layers)                                   [16, 1370, 1280]     [16, 1370, 1280]     --                   False\n",
       "│    │    └─EncoderBlock (encoder_layer_0)                   [16, 1370, 1280]     [16, 1370, 1280]     (19,677,440)         False\n",
       "│    │    └─EncoderBlock (encoder_layer_1)                   [16, 1370, 1280]     [16, 1370, 1280]     (19,677,440)         False\n",
       "│    │    └─EncoderBlock (encoder_layer_2)                   [16, 1370, 1280]     [16, 1370, 1280]     (19,677,440)         False\n",
       "│    │    └─EncoderBlock (encoder_layer_3)                   [16, 1370, 1280]     [16, 1370, 1280]     (19,677,440)         False\n",
       "│    │    └─EncoderBlock (encoder_layer_4)                   [16, 1370, 1280]     [16, 1370, 1280]     (19,677,440)         False\n",
       "│    │    └─EncoderBlock (encoder_layer_5)                   [16, 1370, 1280]     [16, 1370, 1280]     (19,677,440)         False\n",
       "│    │    └─EncoderBlock (encoder_layer_6)                   [16, 1370, 1280]     [16, 1370, 1280]     (19,677,440)         False\n",
       "│    │    └─EncoderBlock (encoder_layer_7)                   [16, 1370, 1280]     [16, 1370, 1280]     (19,677,440)         False\n",
       "│    │    └─EncoderBlock (encoder_layer_8)                   [16, 1370, 1280]     [16, 1370, 1280]     (19,677,440)         False\n",
       "│    │    └─EncoderBlock (encoder_layer_9)                   [16, 1370, 1280]     [16, 1370, 1280]     (19,677,440)         False\n",
       "│    │    └─EncoderBlock (encoder_layer_10)                  [16, 1370, 1280]     [16, 1370, 1280]     (19,677,440)         False\n",
       "│    │    └─EncoderBlock (encoder_layer_11)                  [16, 1370, 1280]     [16, 1370, 1280]     (19,677,440)         False\n",
       "│    │    └─EncoderBlock (encoder_layer_12)                  [16, 1370, 1280]     [16, 1370, 1280]     (19,677,440)         False\n",
       "│    │    └─EncoderBlock (encoder_layer_13)                  [16, 1370, 1280]     [16, 1370, 1280]     (19,677,440)         False\n",
       "│    │    └─EncoderBlock (encoder_layer_14)                  [16, 1370, 1280]     [16, 1370, 1280]     (19,677,440)         False\n",
       "│    │    └─EncoderBlock (encoder_layer_15)                  [16, 1370, 1280]     [16, 1370, 1280]     (19,677,440)         False\n",
       "│    │    └─EncoderBlock (encoder_layer_16)                  [16, 1370, 1280]     [16, 1370, 1280]     (19,677,440)         False\n",
       "│    │    └─EncoderBlock (encoder_layer_17)                  [16, 1370, 1280]     [16, 1370, 1280]     (19,677,440)         False\n",
       "│    │    └─EncoderBlock (encoder_layer_18)                  [16, 1370, 1280]     [16, 1370, 1280]     (19,677,440)         False\n",
       "│    │    └─EncoderBlock (encoder_layer_19)                  [16, 1370, 1280]     [16, 1370, 1280]     (19,677,440)         False\n",
       "│    │    └─EncoderBlock (encoder_layer_20)                  [16, 1370, 1280]     [16, 1370, 1280]     (19,677,440)         False\n",
       "│    │    └─EncoderBlock (encoder_layer_21)                  [16, 1370, 1280]     [16, 1370, 1280]     (19,677,440)         False\n",
       "│    │    └─EncoderBlock (encoder_layer_22)                  [16, 1370, 1280]     [16, 1370, 1280]     (19,677,440)         False\n",
       "│    │    └─EncoderBlock (encoder_layer_23)                  [16, 1370, 1280]     [16, 1370, 1280]     (19,677,440)         False\n",
       "│    │    └─EncoderBlock (encoder_layer_24)                  [16, 1370, 1280]     [16, 1370, 1280]     (19,677,440)         False\n",
       "│    │    └─EncoderBlock (encoder_layer_25)                  [16, 1370, 1280]     [16, 1370, 1280]     (19,677,440)         False\n",
       "│    │    └─EncoderBlock (encoder_layer_26)                  [16, 1370, 1280]     [16, 1370, 1280]     (19,677,440)         False\n",
       "│    │    └─EncoderBlock (encoder_layer_27)                  [16, 1370, 1280]     [16, 1370, 1280]     (19,677,440)         False\n",
       "│    │    └─EncoderBlock (encoder_layer_28)                  [16, 1370, 1280]     [16, 1370, 1280]     (19,677,440)         False\n",
       "│    │    └─EncoderBlock (encoder_layer_29)                  [16, 1370, 1280]     [16, 1370, 1280]     (19,677,440)         False\n",
       "│    │    └─EncoderBlock (encoder_layer_30)                  [16, 1370, 1280]     [16, 1370, 1280]     (19,677,440)         False\n",
       "│    │    └─EncoderBlock (encoder_layer_31)                  [16, 1370, 1280]     [16, 1370, 1280]     (19,677,440)         False\n",
       "│    └─LayerNorm (ln)                                        [16, 1370, 1280]     [16, 1370, 1280]     (2,560)              False\n",
       "├─Linear (heads)                                             [16, 1280]           [16, 6]              7,686                True\n",
       "============================================================================================================================================\n",
       "Total params: 632,197,126\n",
       "Trainable params: 7,686\n",
       "Non-trainable params: 632,189,440\n",
       "Total mult-adds (Units.GIGABYTES): 23.23\n",
       "============================================================================================================================================\n",
       "Input size (MB): 51.52\n",
       "Forward/backward pass size (MB): 50727.98\n",
       "Params size (MB): 1682.25\n",
       "Estimated Total Size (MB): 52461.75\n",
       "============================================================================================================================================"
      ]
     },
     "execution_count": 4,
     "metadata": {},
     "output_type": "execute_result"
    }
   ],
   "source": [
    "from torchinfo import summary\n",
    "\n",
    "summary(model=pretrained_vit, \n",
    "        input_size=(16, 3, 518, 518),\n",
    "        col_names=[\"input_size\", \"output_size\", \"num_params\", \"trainable\"],\n",
    "        col_width=20,\n",
    "        row_settings=[\"var_names\"]\n",
    ")"
   ]
  },
  {
   "cell_type": "code",
   "execution_count": 5,
   "id": "ac8cc699",
   "metadata": {},
   "outputs": [],
   "source": [
    "train_dir = './ich_dataset2-1/augmented/518/train/'\n",
    "test_dir = './ich_dataset2-1/augmented/518/test/'"
   ]
  },
  {
   "cell_type": "code",
   "execution_count": 6,
   "id": "05aa777b",
   "metadata": {},
   "outputs": [
    {
     "name": "stdout",
     "output_type": "stream",
     "text": [
      "ImageClassification(\n",
      "    crop_size=[518]\n",
      "    resize_size=[518]\n",
      "    mean=[0.485, 0.456, 0.406]\n",
      "    std=[0.229, 0.224, 0.225]\n",
      "    interpolation=InterpolationMode.BICUBIC\n",
      ")\n"
     ]
    }
   ],
   "source": [
    "pretrained_vit_transforms = pretrained_vit_weights.transforms()\n",
    "print(pretrained_vit_transforms)"
   ]
  },
  {
   "cell_type": "code",
   "execution_count": 7,
   "id": "5d49225b",
   "metadata": {},
   "outputs": [],
   "source": [
    "import os\n",
    "\n",
    "from torchvision import datasets, transforms\n",
    "from torch.utils.data import DataLoader\n",
    "\n",
    "NUM_WORKERS = os.cpu_count()\n",
    "\n",
    "def create_dataloaders(\n",
    "    train_dir: str, \n",
    "    test_dir: str, \n",
    "    transform: transforms.Compose, \n",
    "    batch_size: int, \n",
    "    num_workers: int=NUM_WORKERS\n",
    "):\n",
    "\n",
    "  train_data = datasets.ImageFolder(train_dir, transform=transform)\n",
    "  test_data = datasets.ImageFolder(test_dir, transform=transform)\n",
    "\n",
    "  class_names = train_data.classes\n",
    "\n",
    "  train_dataloader = DataLoader(\n",
    "      train_data,\n",
    "      batch_size=batch_size,\n",
    "      shuffle=True,\n",
    "      num_workers=num_workers,\n",
    "      pin_memory=True,\n",
    "  )\n",
    "  test_dataloader = DataLoader(\n",
    "      test_data,\n",
    "      batch_size=batch_size,\n",
    "      shuffle=False,\n",
    "      num_workers=num_workers,\n",
    "      pin_memory=True,\n",
    "  )\n",
    "\n",
    "  return train_dataloader, test_dataloader, class_names"
   ]
  },
  {
   "cell_type": "code",
   "execution_count": 8,
   "id": "9037c8a5",
   "metadata": {},
   "outputs": [],
   "source": [
    "train_dataloader_pretrained, test_dataloader_pretrained, class_names = create_dataloaders(train_dir=train_dir,\n",
    "                                                                                                     test_dir=test_dir,\n",
    "                                                                                                     transform=pretrained_vit_transforms,\n",
    "                                                                                                     batch_size=16) "
   ]
  },
  {
   "cell_type": "code",
   "execution_count": null,
   "id": "10c5ba74",
   "metadata": {
    "editable": true,
    "slideshow": {
     "slide_type": ""
    },
    "tags": []
   },
   "outputs": [
    {
     "data": {
      "application/vnd.jupyter.widget-view+json": {
       "model_id": "197d79cfa0ff43fba7f2b85948605ed0",
       "version_major": 2,
       "version_minor": 0
      },
      "text/plain": [
       "  0%|          | 0/10 [00:00<?, ?it/s]"
      ]
     },
     "metadata": {},
     "output_type": "display_data"
    }
   ],
   "source": [
    "from going_modular.going_modular import engine\n",
    "\n",
    "# default optimizer\n",
    "# optimizer = torch.optim.Adam(params=pretrained_vit.parameters(), \n",
    "#                              lr=1e-3)\n",
    "\n",
    "optimizer = torch.optim.Adam(params=pretrained_vit.parameters(), \n",
    "                             lr=1e-2)\n",
    "\n",
    "# optimizer = torch.optim.AdamW(params=pretrained_vit.parameters(), \n",
    "#                              lr=2e-5)\n",
    "\n",
    "loss_fn = torch.nn.CrossEntropyLoss()\n",
    "\n",
    "set_seeds()\n",
    "pretrained_vit_results = engine.train(model=pretrained_vit,\n",
    "                                      train_dataloader=train_dataloader_pretrained,\n",
    "                                      test_dataloader=test_dataloader_pretrained,\n",
    "                                      optimizer=optimizer,\n",
    "                                      loss_fn=loss_fn,\n",
    "                                      epochs=10,\n",
    "                                      device=device)"
   ]
  },
  {
   "cell_type": "code",
   "execution_count": null,
   "id": "2aae16a8",
   "metadata": {},
   "outputs": [],
   "source": [
    "from helper_functions import plot_loss_curves\n",
    "\n",
    "plot_loss_curves(pretrained_vit_results) "
   ]
  },
  {
   "cell_type": "code",
   "execution_count": null,
   "id": "fe89b4e9",
   "metadata": {
    "tags": []
   },
   "outputs": [],
   "source": [
    "import requests\n",
    "import torch\n",
    "import torchvision\n",
    "from torch import nn\n",
    "from going_modular.going_modular.predictions import pred_and_plot_image\n",
    "\n",
    "custom_image_path = \"normal1.jpg\"\n",
    "model_name = \"model.pth\"\n",
    "device = \"cuda\" if torch.cuda.is_available() else \"cpu\"\n",
    "model_file = torchvision.models.vit_h_14().to(device)\n",
    "class_names = ['Epidural', 'Intraparenchymal', 'Intraventicular', 'Normal', 'Subarachnoid', 'Subdural']\n",
    "model_file.heads = nn.Linear(in_features=1280, out_features=len(class_names)).to(device)\n",
    "model_file.load_state_dict(torch.load(f\"models/{model_name}\"))\n",
    "\n",
    "# pred_and_plot_image(model=pretrained_vit,\n",
    "#                     image_path=custom_image_path,\n",
    "#                     class_names=class_names)\n",
    "\n",
    "pred_and_plot_image(model=model_file,\n",
    "                    image_path=custom_image_path,\n",
    "                    class_names=class_names,\n",
    "                    image_size=(518, 518)"
   ]
  },
  {
   "cell_type": "code",
   "execution_count": null,
   "id": "91d56f6b-6cb5-46a1-b27a-2938cca0d9a9",
   "metadata": {
    "tags": []
   },
   "outputs": [],
   "source": [
    "import requests\n",
    "import torch\n",
    "import torchvision\n",
    "from torch import nn\n",
    "device = \"cuda\" if torch.cuda.is_available() else \"cpu\"\n",
    "\n",
    "device"
   ]
  },
  {
   "cell_type": "code",
   "execution_count": null,
   "id": "5e7d64d0",
   "metadata": {
    "tags": []
   },
   "outputs": [],
   "source": [
    "custom_image_path = \"subdural.png\"\n",
    "\n",
    "pred_and_plot_image(model=model_file,\n",
    "                    image_path=custom_image_path,\n",
    "                    class_names=class_names,\n",
    "                    image_size=(518, 518)"
   ]
  },
  {
   "cell_type": "code",
   "execution_count": null,
   "id": "073d839d-8d03-4797-afaa-d2ed2a888337",
   "metadata": {
    "tags": []
   },
   "outputs": [],
   "source": [
    "custom_image_path = \"intraventicular.png\"\n",
    "\n",
    "pred_and_plot_image(model=model_file,\n",
    "                    image_path=custom_image_path,\n",
    "                    class_names=class_names,\n",
    "                    image_size=(518, 518)"
   ]
  },
  {
   "cell_type": "code",
   "execution_count": null,
   "id": "afdf17a7-bda6-42c1-ab9d-d22187a22151",
   "metadata": {
    "tags": []
   },
   "outputs": [],
   "source": [
    "custom_image_path = \"subarachnoid.png\"\n",
    "\n",
    "pred_and_plot_image(model=model_file,\n",
    "                    image_path=custom_image_path,\n",
    "                    class_names=class_names,\n",
    "                    image_size=(518, 518)"
   ]
  },
  {
   "cell_type": "code",
   "execution_count": null,
   "id": "b2088c16-ed94-468e-accd-ee9b3a39d3cc",
   "metadata": {
    "tags": []
   },
   "outputs": [],
   "source": [
    "custom_image_path = \"epidural.png\"\n",
    "\n",
    "pred_and_plot_image(model=model_file,\n",
    "                    image_path=custom_image_path,\n",
    "                    class_names=class_names,\n",
    "                    image_size=(518, 518)"
   ]
  },
  {
   "cell_type": "code",
   "execution_count": null,
   "id": "806be7a4-a7d0-41d8-a47b-7315dd213d99",
   "metadata": {
    "tags": []
   },
   "outputs": [],
   "source": [
    "custom_image_path = \"intraparenchymal.png\"\n",
    "\n",
    "pred_and_plot_image(model=model_file,\n",
    "                    image_path=custom_image_path,\n",
    "                    class_names=class_names,\n",
    "                    image_size=(518, 518)"
   ]
  },
  {
   "cell_type": "code",
   "execution_count": null,
   "id": "eb7d0f9e",
   "metadata": {
    "tags": []
   },
   "outputs": [],
   "source": [
    "!python --version"
   ]
  },
  {
   "cell_type": "code",
   "execution_count": null,
   "id": "fb6c13e0-8e45-4619-845e-b98888f2f984",
   "metadata": {
    "tags": []
   },
   "outputs": [],
   "source": [
    "torch.__version__"
   ]
  },
  {
   "cell_type": "code",
   "execution_count": null,
   "id": "b2cfaf03-e21e-4922-8adc-c7bdb6e2b92f",
   "metadata": {
    "tags": []
   },
   "outputs": [],
   "source": [
    "torch.cuda.is_available()"
   ]
  },
  {
   "cell_type": "code",
   "execution_count": null,
   "id": "de3af8b3-af34-48c5-a771-e2ab348b65d7",
   "metadata": {
    "tags": []
   },
   "outputs": [],
   "source": [
    "torch.cuda.get_device_name(0)"
   ]
  },
  {
   "cell_type": "code",
   "execution_count": null,
   "id": "8f029438-c072-4171-a995-990f4a598adc",
   "metadata": {
    "tags": []
   },
   "outputs": [],
   "source": [
    "torch.cuda.device_count()"
   ]
  },
  {
   "cell_type": "code",
   "execution_count": null,
   "id": "cfd3bfe2-91f5-43b1-ac5c-024a798dc1e8",
   "metadata": {
    "tags": []
   },
   "outputs": [],
   "source": [
    "torch.cuda.current_device()"
   ]
  },
  {
   "cell_type": "code",
   "execution_count": null,
   "id": "10519c9c-ed07-4c47-99a5-d884e6eac939",
   "metadata": {
    "tags": []
   },
   "outputs": [],
   "source": [
    "torch.cuda.device(0)"
   ]
  },
  {
   "cell_type": "code",
   "execution_count": null,
   "id": "0241a5a2-4c89-46a3-aa6c-fd1df12486c5",
   "metadata": {},
   "outputs": [],
   "source": []
  }
 ],
 "metadata": {
  "kernelspec": {
   "display_name": "base env",
   "language": "python",
   "name": "baseenv"
  },
  "language_info": {
   "codemirror_mode": {
    "name": "ipython",
    "version": 3
   },
   "file_extension": ".py",
   "mimetype": "text/x-python",
   "name": "python",
   "nbconvert_exporter": "python",
   "pygments_lexer": "ipython3",
   "version": "3.11.5"
  }
 },
 "nbformat": 4,
 "nbformat_minor": 5
}
